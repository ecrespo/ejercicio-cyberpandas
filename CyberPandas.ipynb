{
 "cells": [
  {
   "cell_type": "markdown",
   "metadata": {},
   "source": [
    "# CyberPandas: Extendiendo Pandas con otros tipos de datos\n",
    "\n",
    "CyberPandas es un contenedor de datos de direcciones IP el cual pueden ser almacenados en un DataFrame\n",
    "\n",
    "https://www.anaconda.com/blog/developer-blog/cyberpandas-extending-pandas-with-richer-types/"
   ]
  },
  {
   "cell_type": "markdown",
   "metadata": {},
   "source": [
    "## Introduccón a CyberPandas\n",
    "\n",
    "En el pasado, las direcciones IP tenían que ser almacenadas como String, pero esto es propenso al error, no todos los String son direcciones IP, y usar string hace que el proceso sea lento.\n",
    "\n",
    "CyberPandas provee dos nuevos tipos: \n",
    "* Dirección IP\n",
    "* Dirección MAC"
   ]
  },
  {
   "cell_type": "code",
   "execution_count": 1,
   "metadata": {},
   "outputs": [],
   "source": [
    "#Importar librerías\n",
    "from cyberpandas import IPArray\n",
    "import pandas as pd\n"
   ]
  },
  {
   "cell_type": "code",
   "execution_count": 2,
   "metadata": {},
   "outputs": [
    {
     "data": {
      "text/plain": [
       "IPArray(['192.168.1.1', '2001:db8:85a3::8a2e:370:7334'])"
      ]
     },
     "execution_count": 2,
     "metadata": {},
     "output_type": "execute_result"
    }
   ],
   "source": [
    "#Se define una dirección IP y su dirección MAC\n",
    "arr = IPArray(['192.168.1.1','2001:0db8:85a3:0000:0000:8a2e:0370:7334'])\n",
    "arr"
   ]
  },
  {
   "cell_type": "code",
   "execution_count": 3,
   "metadata": {},
   "outputs": [
    {
     "data": {
      "text/plain": [
       "0                     192.168.1.1\n",
       "1    2001:db8:85a3::8a2e:370:7334\n",
       "dtype: ip"
      ]
     },
     "execution_count": 3,
     "metadata": {},
     "output_type": "execute_result"
    }
   ],
   "source": [
    "#Se convierte el arreglo en una Serie\n",
    "ser = pd.Series(arr)\n",
    "ser"
   ]
  },
  {
   "cell_type": "markdown",
   "metadata": {},
   "source": [
    "El dato almacenado es un IPArray."
   ]
  },
  {
   "cell_type": "code",
   "execution_count": 4,
   "metadata": {},
   "outputs": [
    {
     "data": {
      "text/plain": [
       "0    False\n",
       "1     True\n",
       "dtype: bool"
      ]
     },
     "execution_count": 4,
     "metadata": {},
     "output_type": "execute_result"
    }
   ],
   "source": [
    "# Averiguar si se tiene una IPv6\n",
    "ser.ip.is_ipv6"
   ]
  },
  {
   "cell_type": "code",
   "execution_count": 5,
   "metadata": {},
   "outputs": [],
   "source": [
    "## Parseo de los datos"
   ]
  },
  {
   "cell_type": "code",
   "execution_count": 6,
   "metadata": {},
   "outputs": [],
   "source": [
    "#Importar\n",
    "import ipaddress\n",
    "import pandas as pd\n",
    "from cyberpandas import IPArray, to_ipaddress"
   ]
  },
  {
   "cell_type": "markdown",
   "metadata": {},
   "source": [
    "### Pasar enteros a direcciones IP"
   ]
  },
  {
   "cell_type": "code",
   "execution_count": 7,
   "metadata": {},
   "outputs": [
    {
     "data": {
      "text/plain": [
       "IPArray(['192.168.1.1', '2001:db8:85a3::8a2e:370:7334'])"
      ]
     },
     "execution_count": 7,
     "metadata": {},
     "output_type": "execute_result"
    }
   ],
   "source": [
    "#Pasar una secuencia de enteros a dirección IP\n",
    "to_ipaddress([3232235777,42540766452641154071740215577757643572])"
   ]
  },
  {
   "cell_type": "code",
   "execution_count": 8,
   "metadata": {},
   "outputs": [
    {
     "data": {
      "text/plain": [
       "IPArray(['192.168.1.1', '2001:db8:85a3::8a2e:370:7334'])"
      ]
     },
     "execution_count": 8,
     "metadata": {},
     "output_type": "execute_result"
    }
   ],
   "source": [
    "#Otro método:\n",
    "IPArray.from_pyints([3232235777,42540766452641154071740215577757643572])"
   ]
  },
  {
   "cell_type": "markdown",
   "metadata": {},
   "source": [
    "### Pasar bytes a direcciones IP"
   ]
  },
  {
   "cell_type": "code",
   "execution_count": 9,
   "metadata": {},
   "outputs": [
    {
     "data": {
      "text/plain": [
       "IPArray(['192.168.1.1', '2001:db8:85a3::8a2e:370:7334'])"
      ]
     },
     "execution_count": 9,
     "metadata": {},
     "output_type": "execute_result"
    }
   ],
   "source": [
    "stream = (b'\\x00\\x00\\x00\\x00\\x00\\x00\\x00\\x00\\x00\\x00\\x00\\x00\\xc0\\xa8\\x01'\n",
    "          b'\\x01 \\x01\\r\\xb8\\x85\\xa3\\x00\\x00\\x00\\x00\\x8a.\\x03ps4')\n",
    "IPArray.from_bytes(stream)"
   ]
  },
  {
   "cell_type": "markdown",
   "metadata": {},
   "source": [
    "Stream es una secuencia de bytes que representan una dirección IP, cada dirección debe ser de 128 bits."
   ]
  },
  {
   "cell_type": "code",
   "execution_count": 10,
   "metadata": {},
   "outputs": [],
   "source": [
    "### Convertir una dirección IP a bytes"
   ]
  },
  {
   "cell_type": "code",
   "execution_count": 11,
   "metadata": {},
   "outputs": [
    {
     "data": {
      "text/plain": [
       "b'\\x00\\x00\\x00\\x00\\x00\\x00\\x00\\x00\\x00\\x00\\x00\\x00\\xc0\\xa8\\x01\\x01 \\x01\\r\\xb8\\x85\\xa3\\x00\\x00\\x00\\x00\\x8a.\\x03ps4'"
      ]
     },
     "execution_count": 11,
     "metadata": {},
     "output_type": "execute_result"
    }
   ],
   "source": [
    "IPArray.to_bytes(IPArray(['192.168.1.1', '2001:db8:85a3::8a2e:370:7334']))"
   ]
  },
  {
   "cell_type": "markdown",
   "metadata": {},
   "source": [
    "## Indexar"
   ]
  },
  {
   "cell_type": "code",
   "execution_count": 12,
   "metadata": {},
   "outputs": [
    {
     "data": {
      "text/plain": [
       "IPv4Address('192.168.1.1')"
      ]
     },
     "execution_count": 12,
     "metadata": {},
     "output_type": "execute_result"
    }
   ],
   "source": [
    " #Obtener el primer elemento de la serie\n",
    "ser[0]"
   ]
  },
  {
   "cell_type": "code",
   "execution_count": 13,
   "metadata": {},
   "outputs": [
    {
     "data": {
      "text/plain": [
       "0                     192.168.1.1\n",
       "1    2001:db8:85a3::8a2e:370:7334\n",
       "dtype: ip"
      ]
     },
     "execution_count": 13,
     "metadata": {},
     "output_type": "execute_result"
    }
   ],
   "source": [
    "ser"
   ]
  },
  {
   "cell_type": "code",
   "execution_count": 14,
   "metadata": {},
   "outputs": [
    {
     "data": {
      "text/plain": [
       "IPv6Address('2001:db8:85a3::8a2e:370:7334')"
      ]
     },
     "execution_count": 14,
     "metadata": {},
     "output_type": "execute_result"
    }
   ],
   "source": [
    "ser.loc[1]"
   ]
  },
  {
   "cell_type": "markdown",
   "metadata": {},
   "source": [
    "### Datos perdidos\n",
    "La dirección 0  (0.0.0.0) representan valores perdidos"
   ]
  },
  {
   "cell_type": "code",
   "execution_count": 15,
   "metadata": {},
   "outputs": [
    {
     "data": {
      "text/plain": [
       "0    False\n",
       "1    False\n",
       "dtype: bool"
      ]
     },
     "execution_count": 15,
     "metadata": {},
     "output_type": "execute_result"
    }
   ],
   "source": [
    "#Averiguar si hay elemento NAN\n",
    "ser.isna()"
   ]
  },
  {
   "cell_type": "code",
   "execution_count": 16,
   "metadata": {},
   "outputs": [
    {
     "data": {
      "text/plain": [
       "0                     192.168.1.1\n",
       "1    2001:db8:85a3::8a2e:370:7334\n",
       "dtype: ip"
      ]
     },
     "execution_count": 16,
     "metadata": {},
     "output_type": "execute_result"
    }
   ],
   "source": [
    "#Descartar NAN\n",
    "ser.dropna()"
   ]
  },
  {
   "cell_type": "code",
   "execution_count": 17,
   "metadata": {},
   "outputs": [
    {
     "data": {
      "text/plain": [
       "array([ True], dtype=bool)"
      ]
     },
     "execution_count": 17,
     "metadata": {},
     "output_type": "execute_result"
    }
   ],
   "source": [
    "# Comparación con una simple red\n",
    "s = IPArray(['192.168.1.1'])\n",
    "s.isin('192.168.1.0/24')"
   ]
  }
 ],
 "metadata": {
  "kernelspec": {
   "display_name": "Python 3",
   "language": "python",
   "name": "python3"
  },
  "language_info": {
   "codemirror_mode": {
    "name": "ipython",
    "version": 3
   },
   "file_extension": ".py",
   "mimetype": "text/x-python",
   "name": "python",
   "nbconvert_exporter": "python",
   "pygments_lexer": "ipython3",
   "version": "3.6.3"
  }
 },
 "nbformat": 4,
 "nbformat_minor": 2
}
